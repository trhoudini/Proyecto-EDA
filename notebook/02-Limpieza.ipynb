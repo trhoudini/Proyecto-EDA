{
 "cells": [
  {
   "cell_type": "markdown",
   "id": "274fc49d",
   "metadata": {},
   "source": [
    "## Importación de librerías"
   ]
  },
  {
   "cell_type": "code",
   "execution_count": 1379,
   "id": "035817f3",
   "metadata": {},
   "outputs": [],
   "source": [
    "import pandas as pd"
   ]
  },
  {
   "cell_type": "markdown",
   "id": "411d5668",
   "metadata": {},
   "source": [
    "## Carga de datos"
   ]
  },
  {
   "cell_type": "code",
   "execution_count": 1380,
   "id": "3dde4510",
   "metadata": {},
   "outputs": [],
   "source": [
    "df = pd.read_csv('../data/raw/bank-additional.csv')"
   ]
  },
  {
   "cell_type": "code",
   "execution_count": 1381,
   "id": "54edf2b4",
   "metadata": {},
   "outputs": [
    {
     "data": {
      "text/html": [
       "<div>\n",
       "<style scoped>\n",
       "    .dataframe tbody tr th:only-of-type {\n",
       "        vertical-align: middle;\n",
       "    }\n",
       "\n",
       "    .dataframe tbody tr th {\n",
       "        vertical-align: top;\n",
       "    }\n",
       "\n",
       "    .dataframe thead th {\n",
       "        text-align: right;\n",
       "    }\n",
       "</style>\n",
       "<table border=\"1\" class=\"dataframe\">\n",
       "  <thead>\n",
       "    <tr style=\"text-align: right;\">\n",
       "      <th></th>\n",
       "      <th>Unnamed: 0</th>\n",
       "      <th>age</th>\n",
       "      <th>job</th>\n",
       "      <th>marital</th>\n",
       "      <th>education</th>\n",
       "      <th>default</th>\n",
       "      <th>housing</th>\n",
       "      <th>loan</th>\n",
       "      <th>contact</th>\n",
       "      <th>duration</th>\n",
       "      <th>...</th>\n",
       "      <th>emp.var.rate</th>\n",
       "      <th>cons.price.idx</th>\n",
       "      <th>cons.conf.idx</th>\n",
       "      <th>euribor3m</th>\n",
       "      <th>nr.employed</th>\n",
       "      <th>y</th>\n",
       "      <th>date</th>\n",
       "      <th>latitude</th>\n",
       "      <th>longitude</th>\n",
       "      <th>id_</th>\n",
       "    </tr>\n",
       "  </thead>\n",
       "  <tbody>\n",
       "    <tr>\n",
       "      <th>0</th>\n",
       "      <td>0</td>\n",
       "      <td>NaN</td>\n",
       "      <td>housemaid</td>\n",
       "      <td>MARRIED</td>\n",
       "      <td>basic.4y</td>\n",
       "      <td>0.0</td>\n",
       "      <td>0.0</td>\n",
       "      <td>0.0</td>\n",
       "      <td>telephone</td>\n",
       "      <td>261</td>\n",
       "      <td>...</td>\n",
       "      <td>1.1</td>\n",
       "      <td>93,994</td>\n",
       "      <td>-36,4</td>\n",
       "      <td>4,857</td>\n",
       "      <td>5191</td>\n",
       "      <td>no</td>\n",
       "      <td>2-agosto-2019</td>\n",
       "      <td>41.495</td>\n",
       "      <td>-71.233</td>\n",
       "      <td>089b39d8-e4d0-461b-87d4-814d71e0e079</td>\n",
       "    </tr>\n",
       "    <tr>\n",
       "      <th>1</th>\n",
       "      <td>1</td>\n",
       "      <td>57.0</td>\n",
       "      <td>services</td>\n",
       "      <td>MARRIED</td>\n",
       "      <td>high.school</td>\n",
       "      <td>NaN</td>\n",
       "      <td>0.0</td>\n",
       "      <td>0.0</td>\n",
       "      <td>telephone</td>\n",
       "      <td>149</td>\n",
       "      <td>...</td>\n",
       "      <td>1.1</td>\n",
       "      <td>93,994</td>\n",
       "      <td>-36,4</td>\n",
       "      <td>NaN</td>\n",
       "      <td>5191</td>\n",
       "      <td>no</td>\n",
       "      <td>14-septiembre-2016</td>\n",
       "      <td>34.601</td>\n",
       "      <td>-83.923</td>\n",
       "      <td>e9d37224-cb6f-4942-98d7-46672963d097</td>\n",
       "    </tr>\n",
       "    <tr>\n",
       "      <th>2</th>\n",
       "      <td>2</td>\n",
       "      <td>37.0</td>\n",
       "      <td>services</td>\n",
       "      <td>MARRIED</td>\n",
       "      <td>high.school</td>\n",
       "      <td>0.0</td>\n",
       "      <td>1.0</td>\n",
       "      <td>0.0</td>\n",
       "      <td>telephone</td>\n",
       "      <td>226</td>\n",
       "      <td>...</td>\n",
       "      <td>1.1</td>\n",
       "      <td>93,994</td>\n",
       "      <td>-36,4</td>\n",
       "      <td>4,857</td>\n",
       "      <td>5191</td>\n",
       "      <td>no</td>\n",
       "      <td>15-febrero-2019</td>\n",
       "      <td>34.939</td>\n",
       "      <td>-94.847</td>\n",
       "      <td>3f9f49b5-e410-4948-bf6e-f9244f04918b</td>\n",
       "    </tr>\n",
       "    <tr>\n",
       "      <th>3</th>\n",
       "      <td>3</td>\n",
       "      <td>40.0</td>\n",
       "      <td>admin.</td>\n",
       "      <td>MARRIED</td>\n",
       "      <td>basic.6y</td>\n",
       "      <td>0.0</td>\n",
       "      <td>0.0</td>\n",
       "      <td>0.0</td>\n",
       "      <td>telephone</td>\n",
       "      <td>151</td>\n",
       "      <td>...</td>\n",
       "      <td>1.1</td>\n",
       "      <td>93,994</td>\n",
       "      <td>-36,4</td>\n",
       "      <td>NaN</td>\n",
       "      <td>5191</td>\n",
       "      <td>no</td>\n",
       "      <td>29-noviembre-2015</td>\n",
       "      <td>49.041</td>\n",
       "      <td>-70.308</td>\n",
       "      <td>9991fafb-4447-451a-8be2-b0df6098d13e</td>\n",
       "    </tr>\n",
       "    <tr>\n",
       "      <th>4</th>\n",
       "      <td>4</td>\n",
       "      <td>56.0</td>\n",
       "      <td>services</td>\n",
       "      <td>MARRIED</td>\n",
       "      <td>high.school</td>\n",
       "      <td>0.0</td>\n",
       "      <td>0.0</td>\n",
       "      <td>1.0</td>\n",
       "      <td>telephone</td>\n",
       "      <td>307</td>\n",
       "      <td>...</td>\n",
       "      <td>1.1</td>\n",
       "      <td>93,994</td>\n",
       "      <td>-36,4</td>\n",
       "      <td>NaN</td>\n",
       "      <td>5191</td>\n",
       "      <td>no</td>\n",
       "      <td>29-enero-2017</td>\n",
       "      <td>38.033</td>\n",
       "      <td>-104.463</td>\n",
       "      <td>eca60b76-70b6-4077-80ba-bc52e8ebb0eb</td>\n",
       "    </tr>\n",
       "  </tbody>\n",
       "</table>\n",
       "<p>5 rows × 24 columns</p>\n",
       "</div>"
      ],
      "text/plain": [
       "   Unnamed: 0   age        job  marital    education  default  housing  loan  \\\n",
       "0           0   NaN  housemaid  MARRIED     basic.4y      0.0      0.0   0.0   \n",
       "1           1  57.0   services  MARRIED  high.school      NaN      0.0   0.0   \n",
       "2           2  37.0   services  MARRIED  high.school      0.0      1.0   0.0   \n",
       "3           3  40.0     admin.  MARRIED     basic.6y      0.0      0.0   0.0   \n",
       "4           4  56.0   services  MARRIED  high.school      0.0      0.0   1.0   \n",
       "\n",
       "     contact  duration  ...  emp.var.rate  cons.price.idx  cons.conf.idx  \\\n",
       "0  telephone       261  ...           1.1          93,994          -36,4   \n",
       "1  telephone       149  ...           1.1          93,994          -36,4   \n",
       "2  telephone       226  ...           1.1          93,994          -36,4   \n",
       "3  telephone       151  ...           1.1          93,994          -36,4   \n",
       "4  telephone       307  ...           1.1          93,994          -36,4   \n",
       "\n",
       "  euribor3m  nr.employed   y                date latitude longitude  \\\n",
       "0     4,857         5191  no       2-agosto-2019   41.495   -71.233   \n",
       "1       NaN         5191  no  14-septiembre-2016   34.601   -83.923   \n",
       "2     4,857         5191  no     15-febrero-2019   34.939   -94.847   \n",
       "3       NaN         5191  no   29-noviembre-2015   49.041   -70.308   \n",
       "4       NaN         5191  no       29-enero-2017   38.033  -104.463   \n",
       "\n",
       "                                    id_  \n",
       "0  089b39d8-e4d0-461b-87d4-814d71e0e079  \n",
       "1  e9d37224-cb6f-4942-98d7-46672963d097  \n",
       "2  3f9f49b5-e410-4948-bf6e-f9244f04918b  \n",
       "3  9991fafb-4447-451a-8be2-b0df6098d13e  \n",
       "4  eca60b76-70b6-4077-80ba-bc52e8ebb0eb  \n",
       "\n",
       "[5 rows x 24 columns]"
      ]
     },
     "execution_count": 1381,
     "metadata": {},
     "output_type": "execute_result"
    }
   ],
   "source": [
    "df.head()"
   ]
  },
  {
   "cell_type": "markdown",
   "id": "e47ff0a6",
   "metadata": {},
   "source": [
    "## Selección de columnas"
   ]
  },
  {
   "cell_type": "markdown",
   "id": "178c289a",
   "metadata": {},
   "source": [
    "Vamos a eliminar columnas que no nos aportan información relevante:\n",
    "\n",
    "* `Unnamed: 0`: es un índice antiguo que se guardó por error al exportar el CSV. No tiene valor analítico y puede eliminarse sin problema.\n",
    "\n",
    "* `date`: Aunque tiene una gran cantidad de valores distintos (1.825 fechas únicas), no parece aportar información útil para agrupar o detectar patrones temporales, y además contiene valores nulos. Podríamos descomponerla en componentes si quisiéramos hacer análisis temporal, pero en este caso decidimos eliminarla.\n",
    "\n",
    "* `default`: El 100% de los valores (o casi todos) son 0, por lo tanto no aporta variación ni valor predictivo. La eliminamos.\n",
    "\n",
    "* `contact_year`: Todas las campañas suceden en un mismo rango de tiempo (2010–2013). No hay suficiente variación para aportar valor. Podríamos usarlo para análisis temporal, pero no será el enfoque. Se elimina. No sale en la base de datos.\n",
    "\n",
    "* `contact_month`: Aunque tiene sentido como variable temporal, si no se va a hacer análisis de estacionalidad o descomposición por mes, podemos eliminarla. Además, los valores categóricos pueden estar desbalanceados. No sale en la base de datos.\n",
    "\n",
    "* `pdays`: El 99% de los valores son 999, que indica \"no contactado anteriormente\". Este valor constante hace que la variable sea poco útil tal cual está. Si no la transformamos binariamente (\"fue contactado antes o no\"), podemos eliminarla.\n",
    "\n",
    "* `previous`: Tiene un comportamiento similar a pdays, ya que la mayoría de los registros son 0 (nunca contactado antes). Si no la transformamos, podemos eliminarla por su bajo aporte.\n",
    "\n",
    "* `latitude` y `longitude` las eliminamos porque no tenemos suficiente contexto geográfico para interpretarlas ni están relacionadas directamente con el objetivo del análisis, por lo que no aportan valor en este caso."
   ]
  },
  {
   "cell_type": "markdown",
   "id": "ddecac1f",
   "metadata": {},
   "source": [
    "## Eliminar duplicados"
   ]
  },
  {
   "cell_type": "code",
   "execution_count": 1382,
   "id": "b6433672",
   "metadata": {},
   "outputs": [],
   "source": [
    "df = df.drop_duplicates()"
   ]
  },
  {
   "cell_type": "code",
   "execution_count": 1383,
   "id": "c21b992a",
   "metadata": {},
   "outputs": [],
   "source": [
    "columnas_eliminar = [\n",
    "    'Unnamed: 0',\n",
    "    'date',\n",
    "    'default',\n",
    "    'latitude',\n",
    "    'longitude',\n",
    "    'pdays',\n",
    "    'previous'\n",
    "    ]"
   ]
  },
  {
   "cell_type": "code",
   "execution_count": 1384,
   "id": "5f75e2e4",
   "metadata": {},
   "outputs": [
    {
     "data": {
      "text/html": [
       "<div>\n",
       "<style scoped>\n",
       "    .dataframe tbody tr th:only-of-type {\n",
       "        vertical-align: middle;\n",
       "    }\n",
       "\n",
       "    .dataframe tbody tr th {\n",
       "        vertical-align: top;\n",
       "    }\n",
       "\n",
       "    .dataframe thead th {\n",
       "        text-align: right;\n",
       "    }\n",
       "</style>\n",
       "<table border=\"1\" class=\"dataframe\">\n",
       "  <thead>\n",
       "    <tr style=\"text-align: right;\">\n",
       "      <th></th>\n",
       "      <th>age</th>\n",
       "      <th>job</th>\n",
       "      <th>marital</th>\n",
       "      <th>education</th>\n",
       "      <th>housing</th>\n",
       "      <th>loan</th>\n",
       "      <th>contact</th>\n",
       "      <th>duration</th>\n",
       "      <th>campaign</th>\n",
       "      <th>poutcome</th>\n",
       "      <th>emp.var.rate</th>\n",
       "      <th>cons.price.idx</th>\n",
       "      <th>cons.conf.idx</th>\n",
       "      <th>euribor3m</th>\n",
       "      <th>nr.employed</th>\n",
       "      <th>y</th>\n",
       "      <th>id_</th>\n",
       "    </tr>\n",
       "  </thead>\n",
       "  <tbody>\n",
       "    <tr>\n",
       "      <th>0</th>\n",
       "      <td>NaN</td>\n",
       "      <td>housemaid</td>\n",
       "      <td>MARRIED</td>\n",
       "      <td>basic.4y</td>\n",
       "      <td>0.0</td>\n",
       "      <td>0.0</td>\n",
       "      <td>telephone</td>\n",
       "      <td>261</td>\n",
       "      <td>1</td>\n",
       "      <td>NONEXISTENT</td>\n",
       "      <td>1.1</td>\n",
       "      <td>93,994</td>\n",
       "      <td>-36,4</td>\n",
       "      <td>4,857</td>\n",
       "      <td>5191</td>\n",
       "      <td>no</td>\n",
       "      <td>089b39d8-e4d0-461b-87d4-814d71e0e079</td>\n",
       "    </tr>\n",
       "    <tr>\n",
       "      <th>1</th>\n",
       "      <td>57.0</td>\n",
       "      <td>services</td>\n",
       "      <td>MARRIED</td>\n",
       "      <td>high.school</td>\n",
       "      <td>0.0</td>\n",
       "      <td>0.0</td>\n",
       "      <td>telephone</td>\n",
       "      <td>149</td>\n",
       "      <td>1</td>\n",
       "      <td>NONEXISTENT</td>\n",
       "      <td>1.1</td>\n",
       "      <td>93,994</td>\n",
       "      <td>-36,4</td>\n",
       "      <td>NaN</td>\n",
       "      <td>5191</td>\n",
       "      <td>no</td>\n",
       "      <td>e9d37224-cb6f-4942-98d7-46672963d097</td>\n",
       "    </tr>\n",
       "    <tr>\n",
       "      <th>2</th>\n",
       "      <td>37.0</td>\n",
       "      <td>services</td>\n",
       "      <td>MARRIED</td>\n",
       "      <td>high.school</td>\n",
       "      <td>1.0</td>\n",
       "      <td>0.0</td>\n",
       "      <td>telephone</td>\n",
       "      <td>226</td>\n",
       "      <td>1</td>\n",
       "      <td>NONEXISTENT</td>\n",
       "      <td>1.1</td>\n",
       "      <td>93,994</td>\n",
       "      <td>-36,4</td>\n",
       "      <td>4,857</td>\n",
       "      <td>5191</td>\n",
       "      <td>no</td>\n",
       "      <td>3f9f49b5-e410-4948-bf6e-f9244f04918b</td>\n",
       "    </tr>\n",
       "    <tr>\n",
       "      <th>3</th>\n",
       "      <td>40.0</td>\n",
       "      <td>admin.</td>\n",
       "      <td>MARRIED</td>\n",
       "      <td>basic.6y</td>\n",
       "      <td>0.0</td>\n",
       "      <td>0.0</td>\n",
       "      <td>telephone</td>\n",
       "      <td>151</td>\n",
       "      <td>1</td>\n",
       "      <td>NONEXISTENT</td>\n",
       "      <td>1.1</td>\n",
       "      <td>93,994</td>\n",
       "      <td>-36,4</td>\n",
       "      <td>NaN</td>\n",
       "      <td>5191</td>\n",
       "      <td>no</td>\n",
       "      <td>9991fafb-4447-451a-8be2-b0df6098d13e</td>\n",
       "    </tr>\n",
       "    <tr>\n",
       "      <th>4</th>\n",
       "      <td>56.0</td>\n",
       "      <td>services</td>\n",
       "      <td>MARRIED</td>\n",
       "      <td>high.school</td>\n",
       "      <td>0.0</td>\n",
       "      <td>1.0</td>\n",
       "      <td>telephone</td>\n",
       "      <td>307</td>\n",
       "      <td>1</td>\n",
       "      <td>NONEXISTENT</td>\n",
       "      <td>1.1</td>\n",
       "      <td>93,994</td>\n",
       "      <td>-36,4</td>\n",
       "      <td>NaN</td>\n",
       "      <td>5191</td>\n",
       "      <td>no</td>\n",
       "      <td>eca60b76-70b6-4077-80ba-bc52e8ebb0eb</td>\n",
       "    </tr>\n",
       "    <tr>\n",
       "      <th>...</th>\n",
       "      <td>...</td>\n",
       "      <td>...</td>\n",
       "      <td>...</td>\n",
       "      <td>...</td>\n",
       "      <td>...</td>\n",
       "      <td>...</td>\n",
       "      <td>...</td>\n",
       "      <td>...</td>\n",
       "      <td>...</td>\n",
       "      <td>...</td>\n",
       "      <td>...</td>\n",
       "      <td>...</td>\n",
       "      <td>...</td>\n",
       "      <td>...</td>\n",
       "      <td>...</td>\n",
       "      <td>...</td>\n",
       "      <td>...</td>\n",
       "    </tr>\n",
       "    <tr>\n",
       "      <th>42995</th>\n",
       "      <td>NaN</td>\n",
       "      <td>admin.</td>\n",
       "      <td>MARRIED</td>\n",
       "      <td>university.degree</td>\n",
       "      <td>0.0</td>\n",
       "      <td>0.0</td>\n",
       "      <td>cellular</td>\n",
       "      <td>618</td>\n",
       "      <td>2</td>\n",
       "      <td>NONEXISTENT</td>\n",
       "      <td>1.4</td>\n",
       "      <td>93,444</td>\n",
       "      <td>-36,1</td>\n",
       "      <td>NaN</td>\n",
       "      <td>5228,1</td>\n",
       "      <td>yes</td>\n",
       "      <td>4eed05de-2a98-4227-b488-32122009b638</td>\n",
       "    </tr>\n",
       "    <tr>\n",
       "      <th>42996</th>\n",
       "      <td>34.0</td>\n",
       "      <td>technician</td>\n",
       "      <td>MARRIED</td>\n",
       "      <td>professional.course</td>\n",
       "      <td>1.0</td>\n",
       "      <td>1.0</td>\n",
       "      <td>cellular</td>\n",
       "      <td>42</td>\n",
       "      <td>7</td>\n",
       "      <td>NONEXISTENT</td>\n",
       "      <td>-0.1</td>\n",
       "      <td>93,2</td>\n",
       "      <td>-42</td>\n",
       "      <td>NaN</td>\n",
       "      <td>5195,8</td>\n",
       "      <td>no</td>\n",
       "      <td>0f0aca88-4088-4fe2-905f-44fb675d9493</td>\n",
       "    </tr>\n",
       "    <tr>\n",
       "      <th>42997</th>\n",
       "      <td>NaN</td>\n",
       "      <td>blue-collar</td>\n",
       "      <td>SINGLE</td>\n",
       "      <td>basic.6y</td>\n",
       "      <td>1.0</td>\n",
       "      <td>0.0</td>\n",
       "      <td>cellular</td>\n",
       "      <td>391</td>\n",
       "      <td>2</td>\n",
       "      <td>NONEXISTENT</td>\n",
       "      <td>1.4</td>\n",
       "      <td>93,918</td>\n",
       "      <td>-42,7</td>\n",
       "      <td>NaN</td>\n",
       "      <td>5228,1</td>\n",
       "      <td>no</td>\n",
       "      <td>cadadd4b-7ee5-4019-b13a-ca01bb67ca5b</td>\n",
       "    </tr>\n",
       "    <tr>\n",
       "      <th>42998</th>\n",
       "      <td>NaN</td>\n",
       "      <td>admin.</td>\n",
       "      <td>MARRIED</td>\n",
       "      <td>university.degree</td>\n",
       "      <td>0.0</td>\n",
       "      <td>0.0</td>\n",
       "      <td>cellular</td>\n",
       "      <td>674</td>\n",
       "      <td>3</td>\n",
       "      <td>NONEXISTENT</td>\n",
       "      <td>1.4</td>\n",
       "      <td>93,918</td>\n",
       "      <td>-42,7</td>\n",
       "      <td>4,958</td>\n",
       "      <td>5228,1</td>\n",
       "      <td>no</td>\n",
       "      <td>5f432048-d515-4bb5-9c94-62db451f88d4</td>\n",
       "    </tr>\n",
       "    <tr>\n",
       "      <th>42999</th>\n",
       "      <td>NaN</td>\n",
       "      <td>unemployed</td>\n",
       "      <td>SINGLE</td>\n",
       "      <td>university.degree</td>\n",
       "      <td>0.0</td>\n",
       "      <td>1.0</td>\n",
       "      <td>cellular</td>\n",
       "      <td>104</td>\n",
       "      <td>2</td>\n",
       "      <td>NONEXISTENT</td>\n",
       "      <td>-0.1</td>\n",
       "      <td>93,2</td>\n",
       "      <td>-42</td>\n",
       "      <td>4,021</td>\n",
       "      <td>5195,8</td>\n",
       "      <td>no</td>\n",
       "      <td>993bbbd6-4dbc-4a40-a408-f91f8462bee6</td>\n",
       "    </tr>\n",
       "  </tbody>\n",
       "</table>\n",
       "<p>43000 rows × 17 columns</p>\n",
       "</div>"
      ],
      "text/plain": [
       "        age          job  marital            education  housing  loan  \\\n",
       "0       NaN    housemaid  MARRIED             basic.4y      0.0   0.0   \n",
       "1      57.0     services  MARRIED          high.school      0.0   0.0   \n",
       "2      37.0     services  MARRIED          high.school      1.0   0.0   \n",
       "3      40.0       admin.  MARRIED             basic.6y      0.0   0.0   \n",
       "4      56.0     services  MARRIED          high.school      0.0   1.0   \n",
       "...     ...          ...      ...                  ...      ...   ...   \n",
       "42995   NaN       admin.  MARRIED    university.degree      0.0   0.0   \n",
       "42996  34.0   technician  MARRIED  professional.course      1.0   1.0   \n",
       "42997   NaN  blue-collar   SINGLE             basic.6y      1.0   0.0   \n",
       "42998   NaN       admin.  MARRIED    university.degree      0.0   0.0   \n",
       "42999   NaN   unemployed   SINGLE    university.degree      0.0   1.0   \n",
       "\n",
       "         contact  duration  campaign     poutcome  emp.var.rate  \\\n",
       "0      telephone       261         1  NONEXISTENT           1.1   \n",
       "1      telephone       149         1  NONEXISTENT           1.1   \n",
       "2      telephone       226         1  NONEXISTENT           1.1   \n",
       "3      telephone       151         1  NONEXISTENT           1.1   \n",
       "4      telephone       307         1  NONEXISTENT           1.1   \n",
       "...          ...       ...       ...          ...           ...   \n",
       "42995   cellular       618         2  NONEXISTENT           1.4   \n",
       "42996   cellular        42         7  NONEXISTENT          -0.1   \n",
       "42997   cellular       391         2  NONEXISTENT           1.4   \n",
       "42998   cellular       674         3  NONEXISTENT           1.4   \n",
       "42999   cellular       104         2  NONEXISTENT          -0.1   \n",
       "\n",
       "      cons.price.idx cons.conf.idx euribor3m nr.employed    y  \\\n",
       "0             93,994         -36,4     4,857        5191   no   \n",
       "1             93,994         -36,4       NaN        5191   no   \n",
       "2             93,994         -36,4     4,857        5191   no   \n",
       "3             93,994         -36,4       NaN        5191   no   \n",
       "4             93,994         -36,4       NaN        5191   no   \n",
       "...              ...           ...       ...         ...  ...   \n",
       "42995         93,444         -36,1       NaN      5228,1  yes   \n",
       "42996           93,2           -42       NaN      5195,8   no   \n",
       "42997         93,918         -42,7       NaN      5228,1   no   \n",
       "42998         93,918         -42,7     4,958      5228,1   no   \n",
       "42999           93,2           -42     4,021      5195,8   no   \n",
       "\n",
       "                                        id_  \n",
       "0      089b39d8-e4d0-461b-87d4-814d71e0e079  \n",
       "1      e9d37224-cb6f-4942-98d7-46672963d097  \n",
       "2      3f9f49b5-e410-4948-bf6e-f9244f04918b  \n",
       "3      9991fafb-4447-451a-8be2-b0df6098d13e  \n",
       "4      eca60b76-70b6-4077-80ba-bc52e8ebb0eb  \n",
       "...                                     ...  \n",
       "42995  4eed05de-2a98-4227-b488-32122009b638  \n",
       "42996  0f0aca88-4088-4fe2-905f-44fb675d9493  \n",
       "42997  cadadd4b-7ee5-4019-b13a-ca01bb67ca5b  \n",
       "42998  5f432048-d515-4bb5-9c94-62db451f88d4  \n",
       "42999  993bbbd6-4dbc-4a40-a408-f91f8462bee6  \n",
       "\n",
       "[43000 rows x 17 columns]"
      ]
     },
     "execution_count": 1384,
     "metadata": {},
     "output_type": "execute_result"
    }
   ],
   "source": [
    "df.drop(columns=columnas_eliminar)"
   ]
  },
  {
   "cell_type": "code",
   "execution_count": 1385,
   "id": "bfe76a77",
   "metadata": {},
   "outputs": [],
   "source": [
    "df = df.drop(columns=columnas_eliminar)"
   ]
  },
  {
   "cell_type": "code",
   "execution_count": 1386,
   "id": "ff3bab82",
   "metadata": {},
   "outputs": [
    {
     "data": {
      "text/plain": [
       "np.int64(0)"
      ]
     },
     "execution_count": 1386,
     "metadata": {},
     "output_type": "execute_result"
    }
   ],
   "source": [
    "df.duplicated().sum()"
   ]
  },
  {
   "cell_type": "code",
   "execution_count": 1387,
   "id": "3ed5a304",
   "metadata": {},
   "outputs": [
    {
     "data": {
      "text/plain": [
       "np.float64(0.0)"
      ]
     },
     "execution_count": 1387,
     "metadata": {},
     "output_type": "execute_result"
    }
   ],
   "source": [
    "df.duplicated().mean()"
   ]
  },
  {
   "cell_type": "markdown",
   "id": "f46ea7fa",
   "metadata": {},
   "source": [
    "Fijémonos en que ahora puede haber duplicados, ya que podrían ser distintos clientes con características similares. En este caso, no tenemos forma de saber si se trata del mismo cliente o no, ya que no contamos con un identificador único `id_`, así que los vamos a dejar por si acaso. No borramos esta variable al final."
   ]
  },
  {
   "cell_type": "markdown",
   "id": "a15668fd",
   "metadata": {},
   "source": [
    "## Limpieza de datos"
   ]
  },
  {
   "cell_type": "markdown",
   "id": "cf422683",
   "metadata": {},
   "source": [
    "Vamos a hacer una limpieza columna a columna."
   ]
  },
  {
   "cell_type": "code",
   "execution_count": 1388,
   "id": "4e9ef06c",
   "metadata": {},
   "outputs": [
    {
     "data": {
      "text/plain": [
       "Index(['age', 'job', 'marital', 'education', 'housing', 'loan', 'contact',\n",
       "       'duration', 'campaign', 'poutcome', 'emp.var.rate', 'cons.price.idx',\n",
       "       'cons.conf.idx', 'euribor3m', 'nr.employed', 'y', 'id_'],\n",
       "      dtype='object')"
      ]
     },
     "execution_count": 1388,
     "metadata": {},
     "output_type": "execute_result"
    }
   ],
   "source": [
    "df.columns"
   ]
  },
  {
   "cell_type": "markdown",
   "id": "e42c2db5",
   "metadata": {},
   "source": [
    "### Columna `age`"
   ]
  },
  {
   "cell_type": "code",
   "execution_count": 1389,
   "id": "fd4aa5cc",
   "metadata": {},
   "outputs": [
    {
     "name": "stdout",
     "output_type": "stream",
     "text": [
      "El número de valores nulos en la columna age es: 5120\n"
     ]
    }
   ],
   "source": [
    "print(f\"El número de valores nulos en la columna age es: {df['age'].isna().sum()}\")"
   ]
  },
  {
   "cell_type": "code",
   "execution_count": 1390,
   "id": "faee12e9",
   "metadata": {},
   "outputs": [
    {
     "data": {
      "text/plain": [
       "0         NaN\n",
       "1        57.0\n",
       "2        37.0\n",
       "3        40.0\n",
       "4        56.0\n",
       "         ... \n",
       "42995     NaN\n",
       "42996    34.0\n",
       "42997     NaN\n",
       "42998     NaN\n",
       "42999     NaN\n",
       "Name: age, Length: 43000, dtype: float64"
      ]
     },
     "execution_count": 1390,
     "metadata": {},
     "output_type": "execute_result"
    }
   ],
   "source": [
    "df['age']"
   ]
  },
  {
   "cell_type": "markdown",
   "id": "38016143",
   "metadata": {},
   "source": [
    "Como teníamos un 10% de nulos en la columna `age`, no eliminamos los nulos y rellenamos con la media."
   ]
  },
  {
   "cell_type": "code",
   "execution_count": 1391,
   "id": "c2b3e523",
   "metadata": {},
   "outputs": [],
   "source": [
    "df['age'] = df['age'].fillna(df['age'].mean())"
   ]
  },
  {
   "cell_type": "markdown",
   "id": "139400a7",
   "metadata": {},
   "source": [
    "Nos aseguramos que no quedan nulos."
   ]
  },
  {
   "cell_type": "code",
   "execution_count": 1392,
   "id": "81eb5cbe",
   "metadata": {},
   "outputs": [
    {
     "name": "stdout",
     "output_type": "stream",
     "text": [
      "0\n"
     ]
    }
   ],
   "source": [
    "print(df['age'].isnull().sum())\n"
   ]
  },
  {
   "cell_type": "markdown",
   "id": "017157b6",
   "metadata": {},
   "source": [
    "Vamos a revisar si tenemos outliers."
   ]
  },
  {
   "cell_type": "code",
   "execution_count": 1393,
   "id": "4b6799da",
   "metadata": {},
   "outputs": [
    {
     "name": "stdout",
     "output_type": "stream",
     "text": [
      "count    43000.000000\n",
      "mean        39.977112\n",
      "std          9.796830\n",
      "min         17.000000\n",
      "25%         33.000000\n",
      "50%         39.977112\n",
      "75%         46.000000\n",
      "max         98.000000\n",
      "Name: age, dtype: float64\n"
     ]
    }
   ],
   "source": [
    "print(df['age'].describe())\n"
   ]
  },
  {
   "cell_type": "markdown",
   "id": "27f74e78",
   "metadata": {},
   "source": [
    "Vamos a eliminar las edades que no son razonables, por ejemplo, menores de 18 años o mayores de 90 años."
   ]
  },
  {
   "cell_type": "code",
   "execution_count": 1394,
   "id": "687d5b48",
   "metadata": {},
   "outputs": [],
   "source": [
    "df = df[(df['age'] >= 18) & (df['age'] < 90)] # Esto asegura que solo se queden las personas que tienen entre 18 y 89 años (inclusive)\n"
   ]
  },
  {
   "cell_type": "code",
   "execution_count": 1395,
   "id": "c0b4a921",
   "metadata": {},
   "outputs": [
    {
     "name": "stdout",
     "output_type": "stream",
     "text": [
      "count    42985.000000\n",
      "mean        39.967333\n",
      "std          9.761246\n",
      "min         18.000000\n",
      "25%         33.000000\n",
      "50%         39.977112\n",
      "75%         46.000000\n",
      "max         89.000000\n",
      "Name: age, dtype: float64\n"
     ]
    }
   ],
   "source": [
    "print(df['age'].describe())"
   ]
  },
  {
   "cell_type": "markdown",
   "id": "9a711ca8",
   "metadata": {},
   "source": [
    "Quedaría así la columna de `age`."
   ]
  },
  {
   "cell_type": "markdown",
   "id": "2549d73e",
   "metadata": {},
   "source": [
    "### Columna `job`"
   ]
  },
  {
   "cell_type": "code",
   "execution_count": 1396,
   "id": "e2c641a2",
   "metadata": {},
   "outputs": [
    {
     "name": "stdout",
     "output_type": "stream",
     "text": [
      "El número de valores nulos en la columna job es: 345\n"
     ]
    }
   ],
   "source": [
    "print(f\"El número de valores nulos en la columna job es: {df['job'].isna().sum()}\")"
   ]
  },
  {
   "cell_type": "code",
   "execution_count": 1397,
   "id": "568c8dc8",
   "metadata": {},
   "outputs": [
    {
     "data": {
      "text/plain": [
       "0          housemaid\n",
       "1           services\n",
       "2           services\n",
       "3             admin.\n",
       "4           services\n",
       "            ...     \n",
       "42995         admin.\n",
       "42996     technician\n",
       "42997    blue-collar\n",
       "42998         admin.\n",
       "42999     unemployed\n",
       "Name: job, Length: 42985, dtype: object"
      ]
     },
     "execution_count": 1397,
     "metadata": {},
     "output_type": "execute_result"
    }
   ],
   "source": [
    "df['job']"
   ]
  },
  {
   "cell_type": "code",
   "execution_count": 1398,
   "id": "ef8e7e3d",
   "metadata": {},
   "outputs": [
    {
     "name": "stdout",
     "output_type": "stream",
     "text": [
      "count      42640\n",
      "unique        11\n",
      "top       admin.\n",
      "freq       10873\n",
      "Name: job, dtype: object\n"
     ]
    }
   ],
   "source": [
    "print(df['job'].describe())"
   ]
  },
  {
   "cell_type": "code",
   "execution_count": 1399,
   "id": "5d30e881",
   "metadata": {},
   "outputs": [
    {
     "name": "stdout",
     "output_type": "stream",
     "text": [
      "job\n",
      "admin.           10873\n",
      "blue-collar       9654\n",
      "technician        7026\n",
      "services          4162\n",
      "management        3050\n",
      "retired           1780\n",
      "entrepreneur      1522\n",
      "self-employed     1489\n",
      "housemaid         1123\n",
      "unemployed        1063\n",
      "student            898\n",
      "NaN                345\n",
      "Name: count, dtype: int64\n"
     ]
    }
   ],
   "source": [
    "print(df['job'].value_counts(dropna=False))\n"
   ]
  },
  {
   "cell_type": "markdown",
   "id": "ac7441d6",
   "metadata": {},
   "source": [
    "Como los nulos solo representan el 0.8% del total, y estamos en fase de limpieza para análisis descriptivo, vamos a rellenarlos con la moda."
   ]
  },
  {
   "cell_type": "code",
   "execution_count": 1400,
   "id": "9a7ce567",
   "metadata": {},
   "outputs": [
    {
     "data": {
      "text/plain": [
       "'admin.'"
      ]
     },
     "execution_count": 1400,
     "metadata": {},
     "output_type": "execute_result"
    }
   ],
   "source": [
    "(df['job'].mode()[0])"
   ]
  },
  {
   "cell_type": "code",
   "execution_count": 1401,
   "id": "c0054b44",
   "metadata": {},
   "outputs": [],
   "source": [
    "df['job'] = df['job'].fillna(df['job'].mode()[0])\n"
   ]
  },
  {
   "cell_type": "code",
   "execution_count": 1402,
   "id": "15ffa5f5",
   "metadata": {},
   "outputs": [
    {
     "name": "stdout",
     "output_type": "stream",
     "text": [
      "job\n",
      "admin.           11218\n",
      "blue-collar       9654\n",
      "technician        7026\n",
      "services          4162\n",
      "management        3050\n",
      "retired           1780\n",
      "entrepreneur      1522\n",
      "self-employed     1489\n",
      "housemaid         1123\n",
      "unemployed        1063\n",
      "student            898\n",
      "Name: count, dtype: int64\n"
     ]
    }
   ],
   "source": [
    "print(df['job'].value_counts(dropna=False))\n"
   ]
  },
  {
   "cell_type": "markdown",
   "id": "28cf549d",
   "metadata": {},
   "source": [
    "Quedaría así el total de cada profesión."
   ]
  },
  {
   "cell_type": "markdown",
   "id": "cc720b2f",
   "metadata": {},
   "source": [
    "### Columna `marital`"
   ]
  },
  {
   "cell_type": "code",
   "execution_count": 1403,
   "id": "976a9b3e",
   "metadata": {},
   "outputs": [
    {
     "name": "stdout",
     "output_type": "stream",
     "text": [
      "El número de valores nulos en la columna marital es: 85\n"
     ]
    }
   ],
   "source": [
    "print(f\"El número de valores nulos en la columna marital es: {df['marital'].isna().sum()}\")"
   ]
  },
  {
   "cell_type": "code",
   "execution_count": 1404,
   "id": "894dbec1",
   "metadata": {},
   "outputs": [
    {
     "data": {
      "text/plain": [
       "0        MARRIED\n",
       "1        MARRIED\n",
       "2        MARRIED\n",
       "3        MARRIED\n",
       "4        MARRIED\n",
       "          ...   \n",
       "42995    MARRIED\n",
       "42996    MARRIED\n",
       "42997     SINGLE\n",
       "42998    MARRIED\n",
       "42999     SINGLE\n",
       "Name: marital, Length: 42985, dtype: object"
      ]
     },
     "execution_count": 1404,
     "metadata": {},
     "output_type": "execute_result"
    }
   ],
   "source": [
    "df['marital']"
   ]
  },
  {
   "cell_type": "code",
   "execution_count": 1405,
   "id": "14223d3c",
   "metadata": {},
   "outputs": [
    {
     "name": "stdout",
     "output_type": "stream",
     "text": [
      "count       42900\n",
      "unique          3\n",
      "top       MARRIED\n",
      "freq        25991\n",
      "Name: marital, dtype: object\n"
     ]
    }
   ],
   "source": [
    "print(df['marital'].describe())"
   ]
  },
  {
   "cell_type": "code",
   "execution_count": 1406,
   "id": "d67e9d12",
   "metadata": {},
   "outputs": [
    {
     "name": "stdout",
     "output_type": "stream",
     "text": [
      "marital\n",
      "MARRIED     25991\n",
      "SINGLE      12100\n",
      "DIVORCED     4809\n",
      "NaN            85\n",
      "Name: count, dtype: int64\n"
     ]
    }
   ],
   "source": [
    "print(df['marital'].value_counts(dropna=False))"
   ]
  },
  {
   "cell_type": "markdown",
   "id": "edb956cc",
   "metadata": {},
   "source": [
    "Como los nulos solo representan el 0.2% del total, y estamos en fase de limpieza para análisis descriptivo, vamos a rellenarlos con la moda."
   ]
  },
  {
   "cell_type": "code",
   "execution_count": 1407,
   "id": "8e88ae34",
   "metadata": {},
   "outputs": [
    {
     "data": {
      "text/plain": [
       "'MARRIED'"
      ]
     },
     "execution_count": 1407,
     "metadata": {},
     "output_type": "execute_result"
    }
   ],
   "source": [
    "(df['marital'].mode()[0])"
   ]
  },
  {
   "cell_type": "code",
   "execution_count": 1408,
   "id": "f0a1a8e2",
   "metadata": {},
   "outputs": [],
   "source": [
    "df['marital'] = df['marital'].fillna(df['marital'].mode()[0])"
   ]
  },
  {
   "cell_type": "code",
   "execution_count": 1409,
   "id": "6d6b835e",
   "metadata": {},
   "outputs": [
    {
     "name": "stdout",
     "output_type": "stream",
     "text": [
      "marital\n",
      "MARRIED     26076\n",
      "SINGLE      12100\n",
      "DIVORCED     4809\n",
      "Name: count, dtype: int64\n"
     ]
    }
   ],
   "source": [
    "print(df['marital'].value_counts(dropna=False))"
   ]
  },
  {
   "cell_type": "markdown",
   "id": "65415b1d",
   "metadata": {},
   "source": [
    "Quedaría así el total del estado civil del cliente."
   ]
  },
  {
   "cell_type": "markdown",
   "id": "e98a3c00",
   "metadata": {},
   "source": [
    "### Columna `education`"
   ]
  },
  {
   "cell_type": "code",
   "execution_count": 1410,
   "id": "d958bcd1",
   "metadata": {},
   "outputs": [
    {
     "name": "stdout",
     "output_type": "stream",
     "text": [
      "El número de valores nulos en la columna education es: 1801\n"
     ]
    }
   ],
   "source": [
    "print(f\"El número de valores nulos en la columna education es: {df['education'].isna().sum()}\")"
   ]
  },
  {
   "cell_type": "code",
   "execution_count": 1411,
   "id": "7b1231f1",
   "metadata": {},
   "outputs": [
    {
     "data": {
      "text/plain": [
       "0                   basic.4y\n",
       "1                high.school\n",
       "2                high.school\n",
       "3                   basic.6y\n",
       "4                high.school\n",
       "                ...         \n",
       "42995      university.degree\n",
       "42996    professional.course\n",
       "42997               basic.6y\n",
       "42998      university.degree\n",
       "42999      university.degree\n",
       "Name: education, Length: 42985, dtype: object"
      ]
     },
     "execution_count": 1411,
     "metadata": {},
     "output_type": "execute_result"
    }
   ],
   "source": [
    "df['education']"
   ]
  },
  {
   "cell_type": "code",
   "execution_count": 1412,
   "id": "efa48bdf",
   "metadata": {},
   "outputs": [
    {
     "name": "stdout",
     "output_type": "stream",
     "text": [
      "count                 41184\n",
      "unique                    7\n",
      "top       university.degree\n",
      "freq                  12720\n",
      "Name: education, dtype: object\n"
     ]
    }
   ],
   "source": [
    "print(df['education'].describe())"
   ]
  },
  {
   "cell_type": "code",
   "execution_count": 1413,
   "id": "18dc8aa2",
   "metadata": {},
   "outputs": [
    {
     "name": "stdout",
     "output_type": "stream",
     "text": [
      "education\n",
      "university.degree      12720\n",
      "high.school             9925\n",
      "basic.9y                6305\n",
      "professional.course     5477\n",
      "basic.4y                4354\n",
      "basic.6y                2385\n",
      "NaN                     1801\n",
      "illiterate                18\n",
      "Name: count, dtype: int64\n"
     ]
    }
   ],
   "source": [
    "print(df['education'].value_counts(dropna=False))"
   ]
  },
  {
   "cell_type": "markdown",
   "id": "7ca6cb0b",
   "metadata": {},
   "source": [
    "Como los nulos solo representan el 4.2% del total, y estamos en fase de limpieza para análisis descriptivo, vamos a rellenarlos con la moda."
   ]
  },
  {
   "cell_type": "code",
   "execution_count": 1414,
   "id": "24fe39a9",
   "metadata": {},
   "outputs": [
    {
     "data": {
      "text/plain": [
       "'university.degree'"
      ]
     },
     "execution_count": 1414,
     "metadata": {},
     "output_type": "execute_result"
    }
   ],
   "source": [
    "(df['education'].mode()[0])"
   ]
  },
  {
   "cell_type": "code",
   "execution_count": 1415,
   "id": "7905a48f",
   "metadata": {},
   "outputs": [],
   "source": [
    "df['education'] = df['education'].fillna(df['education'].mode()[0])"
   ]
  },
  {
   "cell_type": "code",
   "execution_count": 1416,
   "id": "d0c7fc3f",
   "metadata": {},
   "outputs": [
    {
     "name": "stdout",
     "output_type": "stream",
     "text": [
      "education\n",
      "university.degree      14521\n",
      "high.school             9925\n",
      "basic.9y                6305\n",
      "professional.course     5477\n",
      "basic.4y                4354\n",
      "basic.6y                2385\n",
      "illiterate                18\n",
      "Name: count, dtype: int64\n"
     ]
    }
   ],
   "source": [
    "print(df['education'].value_counts(dropna=False))"
   ]
  },
  {
   "cell_type": "markdown",
   "id": "7f94453a",
   "metadata": {},
   "source": [
    "Quedaría así el total del nivel de educación del cliente."
   ]
  },
  {
   "cell_type": "markdown",
   "id": "e147b4f4",
   "metadata": {},
   "source": [
    "### Columna `housing`"
   ]
  },
  {
   "cell_type": "code",
   "execution_count": 1417,
   "id": "948e1a3f",
   "metadata": {},
   "outputs": [
    {
     "name": "stdout",
     "output_type": "stream",
     "text": [
      "El número de valores nulos en la columna housing es: 1025\n"
     ]
    }
   ],
   "source": [
    "print(f\"El número de valores nulos en la columna housing es: {df['housing'].isna().sum()}\")"
   ]
  },
  {
   "cell_type": "code",
   "execution_count": 1418,
   "id": "8907aec8",
   "metadata": {},
   "outputs": [
    {
     "data": {
      "text/plain": [
       "0        0.0\n",
       "1        0.0\n",
       "2        1.0\n",
       "3        0.0\n",
       "4        0.0\n",
       "        ... \n",
       "42995    0.0\n",
       "42996    1.0\n",
       "42997    1.0\n",
       "42998    0.0\n",
       "42999    0.0\n",
       "Name: housing, Length: 42985, dtype: float64"
      ]
     },
     "execution_count": 1418,
     "metadata": {},
     "output_type": "execute_result"
    }
   ],
   "source": [
    "df['housing']"
   ]
  },
  {
   "cell_type": "code",
   "execution_count": 1419,
   "id": "ba9bf2ce",
   "metadata": {},
   "outputs": [
    {
     "name": "stdout",
     "output_type": "stream",
     "text": [
      "count    41960.000000\n",
      "mean         0.536010\n",
      "std          0.498708\n",
      "min          0.000000\n",
      "25%          0.000000\n",
      "50%          1.000000\n",
      "75%          1.000000\n",
      "max          1.000000\n",
      "Name: housing, dtype: float64\n"
     ]
    }
   ],
   "source": [
    "print(df['housing'].describe())"
   ]
  },
  {
   "cell_type": "code",
   "execution_count": 1420,
   "id": "7e77f8f4",
   "metadata": {},
   "outputs": [
    {
     "name": "stdout",
     "output_type": "stream",
     "text": [
      "housing\n",
      "1.0    22491\n",
      "0.0    19469\n",
      "NaN     1025\n",
      "Name: count, dtype: int64\n"
     ]
    }
   ],
   "source": [
    "print(df['housing'].value_counts(dropna=False))"
   ]
  },
  {
   "cell_type": "markdown",
   "id": "2c7b1ea5",
   "metadata": {},
   "source": [
    "Como los nulos solo representan el 2.39% del total, y estamos en fase de limpieza para análisis descriptivo, vamos a rellenarlos con la moda."
   ]
  },
  {
   "cell_type": "code",
   "execution_count": 1421,
   "id": "c3ea34cd",
   "metadata": {},
   "outputs": [
    {
     "data": {
      "text/plain": [
       "np.float64(1.0)"
      ]
     },
     "execution_count": 1421,
     "metadata": {},
     "output_type": "execute_result"
    }
   ],
   "source": [
    "(df['housing'].mode()[0])"
   ]
  },
  {
   "cell_type": "code",
   "execution_count": 1422,
   "id": "1316d9ec",
   "metadata": {},
   "outputs": [],
   "source": [
    "df['housing'] = df['housing'].fillna(df['housing'].mode()[0])"
   ]
  },
  {
   "cell_type": "code",
   "execution_count": 1423,
   "id": "3140ac89",
   "metadata": {},
   "outputs": [
    {
     "name": "stdout",
     "output_type": "stream",
     "text": [
      "housing\n",
      "1.0    23516\n",
      "0.0    19469\n",
      "Name: count, dtype: int64\n"
     ]
    }
   ],
   "source": [
    "print(df['housing'].value_counts(dropna=False))"
   ]
  },
  {
   "cell_type": "markdown",
   "id": "fdf2d62e",
   "metadata": {},
   "source": [
    "Quedarían así los valores de la columna `housing` que nos indica si el cliente tiene un préstamos hipotecario o no."
   ]
  },
  {
   "cell_type": "markdown",
   "id": "259d7390",
   "metadata": {},
   "source": [
    "### Columna `loan`"
   ]
  },
  {
   "cell_type": "code",
   "execution_count": 1424,
   "id": "616ea132",
   "metadata": {},
   "outputs": [
    {
     "name": "stdout",
     "output_type": "stream",
     "text": [
      "El número de valores nulos en la columna loan es: 1025\n"
     ]
    }
   ],
   "source": [
    "print(f\"El número de valores nulos en la columna loan es: {df['loan'].isna().sum()}\")"
   ]
  },
  {
   "cell_type": "code",
   "execution_count": 1425,
   "id": "e300adff",
   "metadata": {},
   "outputs": [
    {
     "data": {
      "text/plain": [
       "0        0.0\n",
       "1        0.0\n",
       "2        0.0\n",
       "3        0.0\n",
       "4        1.0\n",
       "        ... \n",
       "42995    0.0\n",
       "42996    1.0\n",
       "42997    0.0\n",
       "42998    0.0\n",
       "42999    1.0\n",
       "Name: loan, Length: 42985, dtype: float64"
      ]
     },
     "execution_count": 1425,
     "metadata": {},
     "output_type": "execute_result"
    }
   ],
   "source": [
    "df['loan']"
   ]
  },
  {
   "cell_type": "code",
   "execution_count": 1426,
   "id": "1a50730c",
   "metadata": {},
   "outputs": [
    {
     "name": "stdout",
     "output_type": "stream",
     "text": [
      "count    41960.000000\n",
      "mean         0.155553\n",
      "std          0.362435\n",
      "min          0.000000\n",
      "25%          0.000000\n",
      "50%          0.000000\n",
      "75%          0.000000\n",
      "max          1.000000\n",
      "Name: loan, dtype: float64\n"
     ]
    }
   ],
   "source": [
    "print(df['loan'].describe())"
   ]
  },
  {
   "cell_type": "code",
   "execution_count": 1427,
   "id": "57fe078c",
   "metadata": {},
   "outputs": [
    {
     "name": "stdout",
     "output_type": "stream",
     "text": [
      "loan\n",
      "0.0    35433\n",
      "1.0     6527\n",
      "NaN     1025\n",
      "Name: count, dtype: int64\n"
     ]
    }
   ],
   "source": [
    "print(df['loan'].value_counts(dropna=False))"
   ]
  },
  {
   "cell_type": "markdown",
   "id": "5bec9a2e",
   "metadata": {},
   "source": [
    "Como los nulos solo representan el 2.39% del total, y estamos en fase de limpieza para análisis descriptivo, vamos a rellenarlos con la moda."
   ]
  },
  {
   "cell_type": "code",
   "execution_count": 1428,
   "id": "bd5877b7",
   "metadata": {},
   "outputs": [
    {
     "data": {
      "text/plain": [
       "np.float64(0.0)"
      ]
     },
     "execution_count": 1428,
     "metadata": {},
     "output_type": "execute_result"
    }
   ],
   "source": [
    "(df['loan'].mode()[0])"
   ]
  },
  {
   "cell_type": "code",
   "execution_count": 1429,
   "id": "427e0bea",
   "metadata": {},
   "outputs": [],
   "source": [
    "df['loan'] = df['loan'].fillna(df['loan'].mode()[0])"
   ]
  },
  {
   "cell_type": "code",
   "execution_count": 1430,
   "id": "fd8e1d81",
   "metadata": {},
   "outputs": [
    {
     "name": "stdout",
     "output_type": "stream",
     "text": [
      "loan\n",
      "0.0    36458\n",
      "1.0     6527\n",
      "Name: count, dtype: int64\n"
     ]
    }
   ],
   "source": [
    "print(df['loan'].value_counts(dropna=False))"
   ]
  },
  {
   "cell_type": "markdown",
   "id": "dc23b6a9",
   "metadata": {},
   "source": [
    "Quedarían así los valores de la columna `loan` que nos indica si el cliente tiene algún otro tipo de préstamo."
   ]
  },
  {
   "cell_type": "markdown",
   "id": "aaa3c2f0",
   "metadata": {},
   "source": [
    "### Columna `contact`"
   ]
  },
  {
   "cell_type": "code",
   "execution_count": 1431,
   "id": "3e6d25e4",
   "metadata": {},
   "outputs": [
    {
     "name": "stdout",
     "output_type": "stream",
     "text": [
      "El número de valores nulos en la columna contact es: 0\n"
     ]
    }
   ],
   "source": [
    "print(f\"El número de valores nulos en la columna contact es: {df['contact'].isna().sum()}\")"
   ]
  },
  {
   "cell_type": "code",
   "execution_count": 1432,
   "id": "1d19f939",
   "metadata": {},
   "outputs": [
    {
     "data": {
      "text/plain": [
       "0        telephone\n",
       "1        telephone\n",
       "2        telephone\n",
       "3        telephone\n",
       "4        telephone\n",
       "           ...    \n",
       "42995     cellular\n",
       "42996     cellular\n",
       "42997     cellular\n",
       "42998     cellular\n",
       "42999     cellular\n",
       "Name: contact, Length: 42985, dtype: object"
      ]
     },
     "execution_count": 1432,
     "metadata": {},
     "output_type": "execute_result"
    }
   ],
   "source": [
    "df['contact']"
   ]
  },
  {
   "cell_type": "code",
   "execution_count": 1433,
   "id": "c8477831",
   "metadata": {},
   "outputs": [
    {
     "name": "stdout",
     "output_type": "stream",
     "text": [
      "count        42985\n",
      "unique           2\n",
      "top       cellular\n",
      "freq         27381\n",
      "Name: contact, dtype: object\n"
     ]
    }
   ],
   "source": [
    "print(df['contact'].describe())"
   ]
  },
  {
   "cell_type": "code",
   "execution_count": 1434,
   "id": "bcfa3db9",
   "metadata": {},
   "outputs": [
    {
     "name": "stdout",
     "output_type": "stream",
     "text": [
      "contact\n",
      "cellular     27381\n",
      "telephone    15604\n",
      "Name: count, dtype: int64\n"
     ]
    }
   ],
   "source": [
    "print(df['contact'].value_counts(dropna=False))"
   ]
  },
  {
   "cell_type": "markdown",
   "id": "e6c20e69",
   "metadata": {},
   "source": [
    "Como no hay nulos, esta columna está lista para el análisis descriptivo. Quedarían así los valores de la columna `contact` que nos indica el método de contacto utilizado para comunicarse con el cliente."
   ]
  },
  {
   "cell_type": "markdown",
   "id": "3b9666d3",
   "metadata": {},
   "source": [
    "### Columna `duration`"
   ]
  },
  {
   "cell_type": "code",
   "execution_count": 1435,
   "id": "683bf2c4",
   "metadata": {},
   "outputs": [
    {
     "name": "stdout",
     "output_type": "stream",
     "text": [
      "El número de valores nulos en la columna duration es: 0\n"
     ]
    }
   ],
   "source": [
    "print(f\"El número de valores nulos en la columna duration es: {df['duration'].isna().sum()}\")"
   ]
  },
  {
   "cell_type": "code",
   "execution_count": 1436,
   "id": "caf84b42",
   "metadata": {},
   "outputs": [
    {
     "data": {
      "text/plain": [
       "0        261\n",
       "1        149\n",
       "2        226\n",
       "3        151\n",
       "4        307\n",
       "        ... \n",
       "42995    618\n",
       "42996     42\n",
       "42997    391\n",
       "42998    674\n",
       "42999    104\n",
       "Name: duration, Length: 42985, dtype: int64"
      ]
     },
     "execution_count": 1436,
     "metadata": {},
     "output_type": "execute_result"
    }
   ],
   "source": [
    "df['duration']"
   ]
  },
  {
   "cell_type": "code",
   "execution_count": 1437,
   "id": "c71acb50",
   "metadata": {},
   "outputs": [
    {
     "name": "stdout",
     "output_type": "stream",
     "text": [
      "count    42985.000000\n",
      "mean       257.684122\n",
      "std        258.637276\n",
      "min          0.000000\n",
      "25%        102.000000\n",
      "50%        179.000000\n",
      "75%        319.000000\n",
      "max       4918.000000\n",
      "Name: duration, dtype: float64\n"
     ]
    }
   ],
   "source": [
    "print(df['duration'].describe())"
   ]
  },
  {
   "cell_type": "code",
   "execution_count": 1438,
   "id": "10d16cf0",
   "metadata": {},
   "outputs": [
    {
     "name": "stdout",
     "output_type": "stream",
     "text": [
      "duration\n",
      "90      183\n",
      "136     177\n",
      "85      176\n",
      "73      172\n",
      "111     170\n",
      "       ... \n",
      "1416      1\n",
      "1603      1\n",
      "1361      1\n",
      "2219      1\n",
      "1048      1\n",
      "Name: count, Length: 1540, dtype: int64\n"
     ]
    }
   ],
   "source": [
    "print(df['duration'].value_counts(dropna=False))"
   ]
  },
  {
   "cell_type": "markdown",
   "id": "b8c479ad",
   "metadata": {},
   "source": [
    "Como no hay nulos, esta columna está lista para el análisis descriptivo. Quedarían así los valores de la columna `duration` que nos indica la duración en segundos de la última interacción con el cliente."
   ]
  },
  {
   "cell_type": "markdown",
   "id": "7b25f94e",
   "metadata": {},
   "source": [
    "### Columna `campaign`"
   ]
  },
  {
   "cell_type": "code",
   "execution_count": 1439,
   "id": "902278e2",
   "metadata": {},
   "outputs": [
    {
     "name": "stdout",
     "output_type": "stream",
     "text": [
      "El número de valores nulos en la columna campaign es: 0\n"
     ]
    }
   ],
   "source": [
    "print(f\"El número de valores nulos en la columna campaign es: {df['campaign'].isna().sum()}\")"
   ]
  },
  {
   "cell_type": "code",
   "execution_count": 1440,
   "id": "28eb6b36",
   "metadata": {},
   "outputs": [
    {
     "data": {
      "text/plain": [
       "0        1\n",
       "1        1\n",
       "2        1\n",
       "3        1\n",
       "4        1\n",
       "        ..\n",
       "42995    2\n",
       "42996    7\n",
       "42997    2\n",
       "42998    3\n",
       "42999    2\n",
       "Name: campaign, Length: 42985, dtype: int64"
      ]
     },
     "execution_count": 1440,
     "metadata": {},
     "output_type": "execute_result"
    }
   ],
   "source": [
    "df['campaign']"
   ]
  },
  {
   "cell_type": "code",
   "execution_count": 1441,
   "id": "57e42706",
   "metadata": {},
   "outputs": [
    {
     "name": "stdout",
     "output_type": "stream",
     "text": [
      "count    42985.000000\n",
      "mean         2.567547\n",
      "std          2.772687\n",
      "min          1.000000\n",
      "25%          1.000000\n",
      "50%          2.000000\n",
      "75%          3.000000\n",
      "max         56.000000\n",
      "Name: campaign, dtype: float64\n"
     ]
    }
   ],
   "source": [
    "print(df['campaign'].describe())"
   ]
  },
  {
   "cell_type": "code",
   "execution_count": 1442,
   "id": "a6b2224e",
   "metadata": {},
   "outputs": [
    {
     "name": "stdout",
     "output_type": "stream",
     "text": [
      "campaign\n",
      "1     18396\n",
      "2     11044\n",
      "3      5581\n",
      "4      2777\n",
      "5      1658\n",
      "6      1025\n",
      "7       658\n",
      "8       418\n",
      "9       289\n",
      "10      236\n",
      "11      183\n",
      "12      130\n",
      "13       94\n",
      "14       73\n",
      "17       61\n",
      "16       51\n",
      "15       51\n",
      "18       34\n",
      "20       30\n",
      "19       26\n",
      "21       26\n",
      "23       20\n",
      "24       18\n",
      "22       17\n",
      "27       11\n",
      "29       10\n",
      "30       10\n",
      "28        8\n",
      "31        8\n",
      "25        8\n",
      "26        8\n",
      "35        5\n",
      "33        4\n",
      "32        4\n",
      "34        3\n",
      "43        2\n",
      "40        2\n",
      "42        2\n",
      "39        1\n",
      "56        1\n",
      "37        1\n",
      "41        1\n",
      "Name: count, dtype: int64\n"
     ]
    }
   ],
   "source": [
    "print(df['campaign'].value_counts(dropna=False))"
   ]
  },
  {
   "cell_type": "markdown",
   "id": "7b526587",
   "metadata": {},
   "source": [
    "Como no hay nulos, esta columna está lista para el análisis descriptivo. Quedarían así los valores de la columna `campaign` que nos indica el número de contactos realizados durante esta campaña para este cliente."
   ]
  },
  {
   "cell_type": "markdown",
   "id": "2f871efe",
   "metadata": {},
   "source": [
    "### Columna `poutcome`"
   ]
  },
  {
   "cell_type": "code",
   "execution_count": 1443,
   "id": "d2608e47",
   "metadata": {},
   "outputs": [
    {
     "name": "stdout",
     "output_type": "stream",
     "text": [
      "El número de valores nulos en la columna poutcome es: 0\n"
     ]
    }
   ],
   "source": [
    "print(f\"El número de valores nulos en la columna poutcome es: {df['poutcome'].isna().sum()}\")"
   ]
  },
  {
   "cell_type": "code",
   "execution_count": 1444,
   "id": "5658d224",
   "metadata": {},
   "outputs": [
    {
     "data": {
      "text/plain": [
       "0        NONEXISTENT\n",
       "1        NONEXISTENT\n",
       "2        NONEXISTENT\n",
       "3        NONEXISTENT\n",
       "4        NONEXISTENT\n",
       "            ...     \n",
       "42995    NONEXISTENT\n",
       "42996    NONEXISTENT\n",
       "42997    NONEXISTENT\n",
       "42998    NONEXISTENT\n",
       "42999    NONEXISTENT\n",
       "Name: poutcome, Length: 42985, dtype: object"
      ]
     },
     "execution_count": 1444,
     "metadata": {},
     "output_type": "execute_result"
    }
   ],
   "source": [
    "df['poutcome']"
   ]
  },
  {
   "cell_type": "code",
   "execution_count": 1445,
   "id": "8b051bb5",
   "metadata": {},
   "outputs": [
    {
     "name": "stdout",
     "output_type": "stream",
     "text": [
      "count           42985\n",
      "unique              3\n",
      "top       NONEXISTENT\n",
      "freq            37100\n",
      "Name: poutcome, dtype: object\n"
     ]
    }
   ],
   "source": [
    "print(df['poutcome'].describe())"
   ]
  },
  {
   "cell_type": "code",
   "execution_count": 1446,
   "id": "762182ef",
   "metadata": {},
   "outputs": [
    {
     "name": "stdout",
     "output_type": "stream",
     "text": [
      "poutcome\n",
      "NONEXISTENT    37100\n",
      "FAILURE         4456\n",
      "SUCCESS         1429\n",
      "Name: count, dtype: int64\n"
     ]
    }
   ],
   "source": [
    "print(df['poutcome'].value_counts(dropna=False))"
   ]
  },
  {
   "cell_type": "markdown",
   "id": "710045f2",
   "metadata": {},
   "source": [
    "Como no hay nulos, esta columna está lista para el análisis descriptivo. Quedarían así los valores de la columna `poutcome` que nos indica el resultado de la campaña de marketing anterior."
   ]
  },
  {
   "cell_type": "markdown",
   "id": "f4393212",
   "metadata": {},
   "source": [
    "### Columna `emp.var.rate`"
   ]
  },
  {
   "cell_type": "code",
   "execution_count": 1447,
   "id": "a28c846d",
   "metadata": {},
   "outputs": [
    {
     "name": "stdout",
     "output_type": "stream",
     "text": [
      "El número de valores nulos en la columna emp.var.rate es: 0\n"
     ]
    }
   ],
   "source": [
    "print(f\"El número de valores nulos en la columna emp.var.rate es: {df['emp.var.rate'].isna().sum()}\")"
   ]
  },
  {
   "cell_type": "code",
   "execution_count": 1448,
   "id": "80afc835",
   "metadata": {},
   "outputs": [
    {
     "data": {
      "text/plain": [
       "0        1.1\n",
       "1        1.1\n",
       "2        1.1\n",
       "3        1.1\n",
       "4        1.1\n",
       "        ... \n",
       "42995    1.4\n",
       "42996   -0.1\n",
       "42997    1.4\n",
       "42998    1.4\n",
       "42999   -0.1\n",
       "Name: emp.var.rate, Length: 42985, dtype: float64"
      ]
     },
     "execution_count": 1448,
     "metadata": {},
     "output_type": "execute_result"
    }
   ],
   "source": [
    "df['emp.var.rate']"
   ]
  },
  {
   "cell_type": "code",
   "execution_count": 1449,
   "id": "42e7af3c",
   "metadata": {},
   "outputs": [
    {
     "name": "stdout",
     "output_type": "stream",
     "text": [
      "count    42985.000000\n",
      "mean         0.078104\n",
      "std          1.573250\n",
      "min         -3.400000\n",
      "25%         -1.800000\n",
      "50%          1.100000\n",
      "75%          1.400000\n",
      "max          1.400000\n",
      "Name: emp.var.rate, dtype: float64\n"
     ]
    }
   ],
   "source": [
    "print(df['emp.var.rate'].describe())"
   ]
  },
  {
   "cell_type": "code",
   "execution_count": 1450,
   "id": "a51ae99f",
   "metadata": {},
   "outputs": [
    {
     "name": "stdout",
     "output_type": "stream",
     "text": [
      "emp.var.rate\n",
      " 1.4    16980\n",
      "-1.8     9617\n",
      " 1.1     8020\n",
      "-0.1     3830\n",
      "-2.9     1744\n",
      "-3.4     1127\n",
      "-1.7      810\n",
      "-1.1      665\n",
      "-3.0      181\n",
      "-0.2       11\n",
      "Name: count, dtype: int64\n"
     ]
    }
   ],
   "source": [
    "print(df['emp.var.rate'].value_counts(dropna=False))"
   ]
  },
  {
   "cell_type": "markdown",
   "id": "6ff435a6",
   "metadata": {},
   "source": [
    "Como no hay nulos, esta columna está lista para el análisis descriptivo. Quedarían así los valores de la columna `emp.var.rate` que nos indica la tasa de variación del empleo."
   ]
  },
  {
   "cell_type": "markdown",
   "id": "93b93c52",
   "metadata": {},
   "source": [
    "### Columna `cons.price.idx`"
   ]
  },
  {
   "cell_type": "code",
   "execution_count": 1451,
   "id": "cf4ac3a9",
   "metadata": {},
   "outputs": [
    {
     "name": "stdout",
     "output_type": "stream",
     "text": [
      "El número de valores nulos en la columna cons.price.idx es: 471\n"
     ]
    }
   ],
   "source": [
    "print(f\"El número de valores nulos en la columna cons.price.idx es: {df['cons.price.idx'].isna().sum()}\")"
   ]
  },
  {
   "cell_type": "code",
   "execution_count": 1452,
   "id": "301d972b",
   "metadata": {},
   "outputs": [
    {
     "data": {
      "text/plain": [
       "0        93,994\n",
       "1        93,994\n",
       "2        93,994\n",
       "3        93,994\n",
       "4        93,994\n",
       "          ...  \n",
       "42995    93,444\n",
       "42996      93,2\n",
       "42997    93,918\n",
       "42998    93,918\n",
       "42999      93,2\n",
       "Name: cons.price.idx, Length: 42985, dtype: object"
      ]
     },
     "execution_count": 1452,
     "metadata": {},
     "output_type": "execute_result"
    }
   ],
   "source": [
    "df['cons.price.idx']"
   ]
  },
  {
   "cell_type": "code",
   "execution_count": 1453,
   "id": "1a63f7f6",
   "metadata": {},
   "outputs": [
    {
     "name": "stdout",
     "output_type": "stream",
     "text": [
      "count      42514\n",
      "unique        26\n",
      "top       93,994\n",
      "freq        7938\n",
      "Name: cons.price.idx, dtype: object\n"
     ]
    }
   ],
   "source": [
    "print(df['cons.price.idx'].describe())"
   ]
  },
  {
   "cell_type": "code",
   "execution_count": 1454,
   "id": "7a42ab25",
   "metadata": {},
   "outputs": [
    {
     "name": "stdout",
     "output_type": "stream",
     "text": [
      "cons.price.idx\n",
      "93,994    7938\n",
      "93,918    6937\n",
      "92,893    5985\n",
      "93,444    5349\n",
      "94,465    4522\n",
      "93,2      3731\n",
      "93,075    2552\n",
      "92,201     799\n",
      "92,963     742\n",
      "NaN        471\n",
      "92,431     468\n",
      "92,649     374\n",
      "94,215     320\n",
      "94,199     316\n",
      "92,843     297\n",
      "92,379     272\n",
      "93,369     271\n",
      "94,027     240\n",
      "94,055     236\n",
      "93,876     222\n",
      "94,601     212\n",
      "92,469     184\n",
      "92,713     179\n",
      "93,749     179\n",
      "94,767     130\n",
      "93,798      48\n",
      "92,756      11\n",
      "Name: count, dtype: int64\n"
     ]
    }
   ],
   "source": [
    "print(df['cons.price.idx'].value_counts(dropna=False))"
   ]
  },
  {
   "cell_type": "markdown",
   "id": "8b9d0483",
   "metadata": {},
   "source": [
    "Como los nulos solo representan el 1.10% del total, y estamos en fase de limpieza para análisis descriptivo, vamos a rellenarlos con la moda."
   ]
  },
  {
   "cell_type": "code",
   "execution_count": 1455,
   "id": "deb70950",
   "metadata": {},
   "outputs": [
    {
     "data": {
      "text/plain": [
       "'93,994'"
      ]
     },
     "execution_count": 1455,
     "metadata": {},
     "output_type": "execute_result"
    }
   ],
   "source": [
    "(df['cons.price.idx'].mode()[0])"
   ]
  },
  {
   "cell_type": "code",
   "execution_count": 1456,
   "id": "07e70d6f",
   "metadata": {},
   "outputs": [],
   "source": [
    "df['cons.price.idx'] = df['cons.price.idx'].fillna(df['cons.price.idx'].mode()[0])"
   ]
  },
  {
   "cell_type": "code",
   "execution_count": 1457,
   "id": "64d18f0a",
   "metadata": {},
   "outputs": [
    {
     "name": "stdout",
     "output_type": "stream",
     "text": [
      "cons.price.idx\n",
      "93,994    8409\n",
      "93,918    6937\n",
      "92,893    5985\n",
      "93,444    5349\n",
      "94,465    4522\n",
      "93,2      3731\n",
      "93,075    2552\n",
      "92,201     799\n",
      "92,963     742\n",
      "92,431     468\n",
      "92,649     374\n",
      "94,215     320\n",
      "94,199     316\n",
      "92,843     297\n",
      "92,379     272\n",
      "93,369     271\n",
      "94,027     240\n",
      "94,055     236\n",
      "93,876     222\n",
      "94,601     212\n",
      "92,469     184\n",
      "92,713     179\n",
      "93,749     179\n",
      "94,767     130\n",
      "93,798      48\n",
      "92,756      11\n",
      "Name: count, dtype: int64\n"
     ]
    }
   ],
   "source": [
    "print(df['cons.price.idx'].value_counts(dropna=False))"
   ]
  },
  {
   "cell_type": "markdown",
   "id": "2f111bc2",
   "metadata": {},
   "source": [
    "Quedarían así los valores de la columna `cons.price.idx` que nos indica el índice de precios al consumidor."
   ]
  },
  {
   "cell_type": "markdown",
   "id": "5efefcfe",
   "metadata": {},
   "source": [
    "### Columna `cons.conf.idx`"
   ]
  },
  {
   "cell_type": "code",
   "execution_count": 1458,
   "id": "0d6284b6",
   "metadata": {},
   "outputs": [
    {
     "name": "stdout",
     "output_type": "stream",
     "text": [
      "El número de valores nulos en la columna cons.conf.idx es: 0\n"
     ]
    }
   ],
   "source": [
    "print(f\"El número de valores nulos en la columna cons.conf.idx es: {df['cons.conf.idx'].isna().sum()}\")"
   ]
  },
  {
   "cell_type": "code",
   "execution_count": 1459,
   "id": "aeec45db",
   "metadata": {},
   "outputs": [
    {
     "data": {
      "text/plain": [
       "0        -36,4\n",
       "1        -36,4\n",
       "2        -36,4\n",
       "3        -36,4\n",
       "4        -36,4\n",
       "         ...  \n",
       "42995    -36,1\n",
       "42996      -42\n",
       "42997    -42,7\n",
       "42998    -42,7\n",
       "42999      -42\n",
       "Name: cons.conf.idx, Length: 42985, dtype: object"
      ]
     },
     "execution_count": 1459,
     "metadata": {},
     "output_type": "execute_result"
    }
   ],
   "source": [
    "df['cons.conf.idx']"
   ]
  },
  {
   "cell_type": "code",
   "execution_count": 1460,
   "id": "52524a50",
   "metadata": {},
   "outputs": [
    {
     "name": "stdout",
     "output_type": "stream",
     "text": [
      "count     42985\n",
      "unique       26\n",
      "top       -36,4\n",
      "freq       8020\n",
      "Name: cons.conf.idx, dtype: object\n"
     ]
    }
   ],
   "source": [
    "print(df['cons.conf.idx'].describe())"
   ]
  },
  {
   "cell_type": "code",
   "execution_count": 1461,
   "id": "03a45a7c",
   "metadata": {},
   "outputs": [
    {
     "name": "stdout",
     "output_type": "stream",
     "text": [
      "cons.conf.idx\n",
      "-36,4    8020\n",
      "-42,7    7004\n",
      "-46,2    6057\n",
      "-36,1    5408\n",
      "-41,8    4568\n",
      "-42      3782\n",
      "-47,1    2581\n",
      "-31,4     811\n",
      "-40,8     748\n",
      "-26,9     474\n",
      "-30,1     378\n",
      "-40,3     328\n",
      "-37,5     318\n",
      "-50       298\n",
      "-34,8     275\n",
      "-29,8     275\n",
      "-38,3     243\n",
      "-39,8     239\n",
      "-40       223\n",
      "-49,5     214\n",
      "-33,6     185\n",
      "-34,6     183\n",
      "-33       181\n",
      "-50,8     133\n",
      "-40,4      48\n",
      "-45,9      11\n",
      "Name: count, dtype: int64\n"
     ]
    }
   ],
   "source": [
    "print(df['cons.conf.idx'].value_counts(dropna=False))"
   ]
  },
  {
   "cell_type": "markdown",
   "id": "7bab6b77",
   "metadata": {},
   "source": [
    "Como no hay nulos, esta columna está lista para el análisis descriptivo. Quedarían así los valores de la columna `cons.conf.idx` que nos indica el índice de confianza del consumidor."
   ]
  },
  {
   "cell_type": "markdown",
   "id": "7b8776ec",
   "metadata": {},
   "source": [
    "### Columna `euribor3m`"
   ]
  },
  {
   "cell_type": "code",
   "execution_count": 1462,
   "id": "8a066966",
   "metadata": {},
   "outputs": [
    {
     "name": "stdout",
     "output_type": "stream",
     "text": [
      "El número de valores nulos en la columna euribor3m es: 9252\n"
     ]
    }
   ],
   "source": [
    "print(f\"El número de valores nulos en la columna euribor3m es: {df['euribor3m'].isna().sum()}\")"
   ]
  },
  {
   "cell_type": "code",
   "execution_count": 1463,
   "id": "4471a758",
   "metadata": {},
   "outputs": [
    {
     "data": {
      "text/plain": [
       "0        4,857\n",
       "1          NaN\n",
       "2        4,857\n",
       "3          NaN\n",
       "4          NaN\n",
       "         ...  \n",
       "42995      NaN\n",
       "42996      NaN\n",
       "42997      NaN\n",
       "42998    4,958\n",
       "42999    4,021\n",
       "Name: euribor3m, Length: 42985, dtype: object"
      ]
     },
     "execution_count": 1463,
     "metadata": {},
     "output_type": "execute_result"
    }
   ],
   "source": [
    "df['euribor3m']"
   ]
  },
  {
   "cell_type": "code",
   "execution_count": 1464,
   "id": "512f5686",
   "metadata": {},
   "outputs": [
    {
     "name": "stdout",
     "output_type": "stream",
     "text": [
      "count     33733\n",
      "unique      309\n",
      "top       4,857\n",
      "freq       2287\n",
      "Name: euribor3m, dtype: object\n"
     ]
    }
   ],
   "source": [
    "print(df['euribor3m'].describe())"
   ]
  },
  {
   "cell_type": "code",
   "execution_count": 1465,
   "id": "a7ae1859",
   "metadata": {},
   "outputs": [
    {
     "name": "stdout",
     "output_type": "stream",
     "text": [
      "euribor3m\n",
      "NaN      9252\n",
      "4,857    2287\n",
      "4,962    2124\n",
      "4,963    2019\n",
      "4,961    1594\n",
      "         ... \n",
      "5,045       1\n",
      "4,921       1\n",
      "0,956       1\n",
      "0,894       1\n",
      "0,953       1\n",
      "Name: count, Length: 310, dtype: int64\n"
     ]
    }
   ],
   "source": [
    "print(df['euribor3m'].value_counts(dropna=False))"
   ]
  },
  {
   "cell_type": "markdown",
   "id": "93ad6ef0",
   "metadata": {},
   "source": [
    "Como los nulos representan el 21.53% del total, y estamos en fase de limpieza para análisis descriptivo, vamos a rellenarlos con creando una nueva categoría que se llame `unknown`."
   ]
  },
  {
   "cell_type": "code",
   "execution_count": 1466,
   "id": "71c917a5",
   "metadata": {},
   "outputs": [],
   "source": [
    "df['euribor3m'] = df['euribor3m'].fillna('unknown')"
   ]
  },
  {
   "cell_type": "code",
   "execution_count": 1467,
   "id": "3bf1b414",
   "metadata": {},
   "outputs": [
    {
     "data": {
      "text/plain": [
       "euribor3m\n",
       "unknown    9252\n",
       "4,857      2287\n",
       "4,962      2124\n",
       "4,963      2019\n",
       "4,961      1594\n",
       "           ... \n",
       "5,045         1\n",
       "4,921         1\n",
       "0,956         1\n",
       "0,894         1\n",
       "0,953         1\n",
       "Name: count, Length: 310, dtype: int64"
      ]
     },
     "execution_count": 1467,
     "metadata": {},
     "output_type": "execute_result"
    }
   ],
   "source": [
    "df['euribor3m'].value_counts()"
   ]
  },
  {
   "cell_type": "markdown",
   "id": "e02a8e02",
   "metadata": {},
   "source": [
    "Esta columna está lista para el análisis descriptivo. Quedarían así los valores de la columna `euribor3m` que nos indica la tasa de interés de referencia a tres meses."
   ]
  },
  {
   "cell_type": "markdown",
   "id": "79881587",
   "metadata": {},
   "source": [
    "### Columna `nr.employed`"
   ]
  },
  {
   "cell_type": "code",
   "execution_count": 1468,
   "id": "16baa23f",
   "metadata": {},
   "outputs": [
    {
     "name": "stdout",
     "output_type": "stream",
     "text": [
      "El número de valores nulos en la columna nr.employed es: 0\n"
     ]
    }
   ],
   "source": [
    "print(f\"El número de valores nulos en la columna nr.employed es: {df['nr.employed'].isna().sum()}\")"
   ]
  },
  {
   "cell_type": "code",
   "execution_count": 1469,
   "id": "051d1799",
   "metadata": {},
   "outputs": [
    {
     "data": {
      "text/plain": [
       "0          5191\n",
       "1          5191\n",
       "2          5191\n",
       "3          5191\n",
       "4          5191\n",
       "          ...  \n",
       "42995    5228,1\n",
       "42996    5195,8\n",
       "42997    5228,1\n",
       "42998    5228,1\n",
       "42999    5195,8\n",
       "Name: nr.employed, Length: 42985, dtype: object"
      ]
     },
     "execution_count": 1469,
     "metadata": {},
     "output_type": "execute_result"
    }
   ],
   "source": [
    "df['nr.employed']"
   ]
  },
  {
   "cell_type": "code",
   "execution_count": 1470,
   "id": "6b4e5fdc",
   "metadata": {},
   "outputs": [
    {
     "name": "stdout",
     "output_type": "stream",
     "text": [
      "count      42985\n",
      "unique        11\n",
      "top       5228,1\n",
      "freq       16980\n",
      "Name: nr.employed, dtype: object\n"
     ]
    }
   ],
   "source": [
    "print(df['nr.employed'].describe())"
   ]
  },
  {
   "cell_type": "code",
   "execution_count": 1471,
   "id": "8752ef15",
   "metadata": {},
   "outputs": [
    {
     "name": "stdout",
     "output_type": "stream",
     "text": [
      "nr.employed\n",
      "5228,1    16980\n",
      "5099,1     8936\n",
      "5191       8020\n",
      "5195,8     3830\n",
      "5076,2     1744\n",
      "5017,5     1127\n",
      "4991,6      810\n",
      "5008,7      681\n",
      "4963,6      665\n",
      "5023,5      181\n",
      "5176,3       11\n",
      "Name: count, dtype: int64\n"
     ]
    }
   ],
   "source": [
    "print(df['nr.employed'].value_counts(dropna=False))"
   ]
  },
  {
   "cell_type": "markdown",
   "id": "8e5b4218",
   "metadata": {},
   "source": [
    "Como no hay nulos, esta columna está lista para el análisis descriptivo. Quedarían así los valores de la columna `nr.employed` que nos indica el número de empleados."
   ]
  },
  {
   "cell_type": "markdown",
   "id": "b01fa8e4",
   "metadata": {},
   "source": [
    "### Columna `y`"
   ]
  },
  {
   "cell_type": "code",
   "execution_count": 1472,
   "id": "d127a69e",
   "metadata": {},
   "outputs": [
    {
     "name": "stdout",
     "output_type": "stream",
     "text": [
      "El número de valores nulos en la columna y es: 0\n"
     ]
    }
   ],
   "source": [
    "print(f\"El número de valores nulos en la columna y es: {df['y'].isna().sum()}\")"
   ]
  },
  {
   "cell_type": "code",
   "execution_count": 1473,
   "id": "b10e110b",
   "metadata": {},
   "outputs": [
    {
     "data": {
      "text/plain": [
       "0         no\n",
       "1         no\n",
       "2         no\n",
       "3         no\n",
       "4         no\n",
       "        ... \n",
       "42995    yes\n",
       "42996     no\n",
       "42997     no\n",
       "42998     no\n",
       "42999     no\n",
       "Name: y, Length: 42985, dtype: object"
      ]
     },
     "execution_count": 1473,
     "metadata": {},
     "output_type": "execute_result"
    }
   ],
   "source": [
    "df['y']"
   ]
  },
  {
   "cell_type": "code",
   "execution_count": 1474,
   "id": "30c2014a",
   "metadata": {},
   "outputs": [
    {
     "name": "stdout",
     "output_type": "stream",
     "text": [
      "count     42985\n",
      "unique        2\n",
      "top          no\n",
      "freq      38148\n",
      "Name: y, dtype: object\n"
     ]
    }
   ],
   "source": [
    "print(df['y'].describe())"
   ]
  },
  {
   "cell_type": "code",
   "execution_count": 1475,
   "id": "ebc14194",
   "metadata": {},
   "outputs": [
    {
     "name": "stdout",
     "output_type": "stream",
     "text": [
      "y\n",
      "no     38148\n",
      "yes     4837\n",
      "Name: count, dtype: int64\n"
     ]
    }
   ],
   "source": [
    "print(df['y'].value_counts(dropna=False))"
   ]
  },
  {
   "cell_type": "markdown",
   "id": "20ebe38d",
   "metadata": {},
   "source": [
    "Como no hay nulos, esta columna está lista para el análisis descriptivo. Quedarían así los valores de la columna `y` que nos indica si el cliente ha suscrito un producto o servicio."
   ]
  },
  {
   "cell_type": "markdown",
   "id": "f3fd05db",
   "metadata": {},
   "source": [
    "### Columna `id_`"
   ]
  },
  {
   "cell_type": "code",
   "execution_count": 1476,
   "id": "6507ba08",
   "metadata": {},
   "outputs": [
    {
     "name": "stdout",
     "output_type": "stream",
     "text": [
      "El número de valores nulos en la columna id_ es: 0\n"
     ]
    }
   ],
   "source": [
    "print(f\"El número de valores nulos en la columna id_ es: {df['id_'].isna().sum()}\")"
   ]
  },
  {
   "cell_type": "code",
   "execution_count": 1477,
   "id": "d33a2960",
   "metadata": {},
   "outputs": [
    {
     "data": {
      "text/plain": [
       "0        089b39d8-e4d0-461b-87d4-814d71e0e079\n",
       "1        e9d37224-cb6f-4942-98d7-46672963d097\n",
       "2        3f9f49b5-e410-4948-bf6e-f9244f04918b\n",
       "3        9991fafb-4447-451a-8be2-b0df6098d13e\n",
       "4        eca60b76-70b6-4077-80ba-bc52e8ebb0eb\n",
       "                         ...                 \n",
       "42995    4eed05de-2a98-4227-b488-32122009b638\n",
       "42996    0f0aca88-4088-4fe2-905f-44fb675d9493\n",
       "42997    cadadd4b-7ee5-4019-b13a-ca01bb67ca5b\n",
       "42998    5f432048-d515-4bb5-9c94-62db451f88d4\n",
       "42999    993bbbd6-4dbc-4a40-a408-f91f8462bee6\n",
       "Name: id_, Length: 42985, dtype: object"
      ]
     },
     "execution_count": 1477,
     "metadata": {},
     "output_type": "execute_result"
    }
   ],
   "source": [
    "df['id_']"
   ]
  },
  {
   "cell_type": "code",
   "execution_count": 1478,
   "id": "d5ff1ca4",
   "metadata": {},
   "outputs": [
    {
     "name": "stdout",
     "output_type": "stream",
     "text": [
      "count                                    42985\n",
      "unique                                   42985\n",
      "top       993bbbd6-4dbc-4a40-a408-f91f8462bee6\n",
      "freq                                         1\n",
      "Name: id_, dtype: object\n"
     ]
    }
   ],
   "source": [
    "print(df['id_'].describe())"
   ]
  },
  {
   "cell_type": "code",
   "execution_count": 1479,
   "id": "bcd5b74e",
   "metadata": {},
   "outputs": [
    {
     "name": "stdout",
     "output_type": "stream",
     "text": [
      "id_\n",
      "993bbbd6-4dbc-4a40-a408-f91f8462bee6    1\n",
      "089b39d8-e4d0-461b-87d4-814d71e0e079    1\n",
      "e9d37224-cb6f-4942-98d7-46672963d097    1\n",
      "3f9f49b5-e410-4948-bf6e-f9244f04918b    1\n",
      "9991fafb-4447-451a-8be2-b0df6098d13e    1\n",
      "                                       ..\n",
      "54b1ea8a-a909-45d9-9562-775b64ac9c29    1\n",
      "66a752e2-b2f1-440c-9a8f-cc3b10d74dd0    1\n",
      "ca5c0d7a-8bbd-42b3-8351-1074c5be011a    1\n",
      "8d700df5-0c33-4517-8cf8-92e1c92c9c12    1\n",
      "ea6b7d04-9271-4c0a-a01f-07795d164aba    1\n",
      "Name: count, Length: 42985, dtype: int64\n"
     ]
    }
   ],
   "source": [
    "print(df['id_'].value_counts(dropna=False))"
   ]
  },
  {
   "cell_type": "markdown",
   "id": "5eaf11d3",
   "metadata": {},
   "source": [
    "Como no hay nulos, esta columna está lista para el análisis descriptivo. Quedarían así los valores de la columna `id_` que nos indica el identificador único para cada registro en el dataset."
   ]
  },
  {
   "cell_type": "markdown",
   "id": "d7d5109f",
   "metadata": {},
   "source": [
    "## Guardamos los datos limpios"
   ]
  },
  {
   "cell_type": "code",
   "execution_count": 1480,
   "id": "2e6480ef",
   "metadata": {},
   "outputs": [],
   "source": [
    "df.to_csv('../data/output/bank-additional_limpio.csv', index=False)"
   ]
  }
 ],
 "metadata": {
  "kernelspec": {
   "display_name": "Python 3",
   "language": "python",
   "name": "python3"
  },
  "language_info": {
   "codemirror_mode": {
    "name": "ipython",
    "version": 3
   },
   "file_extension": ".py",
   "mimetype": "text/x-python",
   "name": "python",
   "nbconvert_exporter": "python",
   "pygments_lexer": "ipython3",
   "version": "3.13.3"
  }
 },
 "nbformat": 4,
 "nbformat_minor": 5
}
